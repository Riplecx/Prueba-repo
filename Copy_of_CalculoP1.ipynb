{
  "nbformat": 4,
  "nbformat_minor": 0,
  "metadata": {
    "colab": {
      "name": "Copy of CalculoP1.ipynb",
      "provenance": [],
      "collapsed_sections": [],
      "include_colab_link": true
    },
    "kernelspec": {
      "name": "python3",
      "display_name": "Python 3"
    },
    "language_info": {
      "name": "python"
    }
  },
  "cells": [
    {
      "cell_type": "markdown",
      "metadata": {
        "id": "view-in-github",
        "colab_type": "text"
      },
      "source": [
        "<a href=\"https://colab.research.google.com/github/Riplecx/Prueba-repo/blob/main/Copy_of_CalculoP1.ipynb\" target=\"_parent\"><img src=\"https://colab.research.google.com/assets/colab-badge.svg\" alt=\"Open In Colab\"/></a>"
      ]
    },
    {
      "cell_type": "markdown",
      "source": [
        "##  Grafica f(x)=2x^2-4x-1, halla una escala donde se pueda apreciar que el valor del mínimo absoluto y obten la 2da derivada para verificar resultados."
      ],
      "metadata": {
        "id": "2Uq6pi0hDwFq"
      }
    },
    {
      "cell_type": "code",
      "source": [
        "import numpy as np\n",
        "import matplotlib.pyplot as plt\n",
        "import random"
      ],
      "metadata": {
        "id": "tRK2HiOjJWvm"
      },
      "execution_count": 1,
      "outputs": []
    },
    {
      "cell_type": "code",
      "source": [
        "resolucion = 100"
      ],
      "metadata": {
        "id": "o5vayqs-JQlH"
      },
      "execution_count": 2,
      "outputs": []
    },
    {
      "cell_type": "code",
      "source": [
        "def f(x):\n",
        "  return ((2*x**2)-(4*x)-1)"
      ],
      "metadata": {
        "id": "Ge4KHdfeD54P"
      },
      "execution_count": 6,
      "outputs": []
    },
    {
      "cell_type": "code",
      "source": [
        "x = np.linspace(-10,10, num=resolucion)\n",
        "y = f(x)\n",
        "fig, ax = plt.subplots()\n",
        "ax.plot(x, f(x))\n",
        "ax.grid()\n",
        "ax.axhline(y=0, color='r')\n",
        "ax.axvline(x=0, color='r')\n"
      ],
      "metadata": {
        "colab": {
          "base_uri": "https://localhost:8080/",
          "height": 285
        },
        "id": "TEpAMY8cJU6f",
        "outputId": "50c64225-04d8-4a82-eccd-f042a094e126"
      },
      "execution_count": 7,
      "outputs": [
        {
          "output_type": "execute_result",
          "data": {
            "text/plain": [
              "<matplotlib.lines.Line2D at 0x7f96ab6b6fd0>"
            ]
          },
          "metadata": {},
          "execution_count": 7
        },
        {
          "output_type": "display_data",
          "data": {
            "text/plain": [
              "<Figure size 432x288 with 1 Axes>"
            ],
            "image/png": "[encoded data removed]"
          },
          "metadata": {
            "needs_background": "light"
          }
        }
      ]
    },
    {
      "cell_type": "code",
      "source": [
        "def derivada_sin_y(f,x,h):\n",
        "  return (f(x+h)-f(x))/h"
      ],
      "metadata": {
        "id": "0alhcNUjKGfZ"
      },
      "execution_count": 8,
      "outputs": []
    },
    {
      "cell_type": "code",
      "source": [
        "PTO_x = random.random()-10"
      ],
      "metadata": {
        "id": "wiEh4zRTKoq_"
      },
      "execution_count": 24,
      "outputs": []
    },
    {
      "cell_type": "code",
      "source": [
        "dx = derivada_sin_y(f,x,h=0.01)"
      ],
      "metadata": {
        "colab": {
          "base_uri": "https://localhost:8080/"
        },
        "id": "gy1N5NdTLI9w",
        "outputId": "f57d9768-5330-4b8c-f77d-2f1216270c58"
      },
      "execution_count": 18,
      "outputs": [
        {
          "output_type": "execute_result",
          "data": {
            "text/plain": [
              "array([-43.98      , -43.17191919, -42.36383838, -41.55575758,\n",
              "       -40.74767677, -39.93959596, -39.13151515, -38.32343434,\n",
              "       -37.51535354, -36.70727273, -35.89919192, -35.09111111,\n",
              "       -34.2830303 , -33.47494949, -32.66686869, -31.85878788,\n",
              "       -31.05070707, -30.24262626, -29.43454545, -28.62646465,\n",
              "       -27.81838384, -27.01030303, -26.20222222, -25.39414141,\n",
              "       -24.58606061, -23.7779798 , -22.96989899, -22.16181818,\n",
              "       -21.35373737, -20.54565657, -19.73757576, -18.92949495,\n",
              "       -18.12141414, -17.31333333, -16.50525253, -15.69717172,\n",
              "       -14.88909091, -14.0810101 , -13.27292929, -12.46484848,\n",
              "       -11.65676768, -10.84868687, -10.04060606,  -9.23252525,\n",
              "        -8.42444444,  -7.61636364,  -6.80828283,  -6.00020202,\n",
              "        -5.19212121,  -4.3840404 ,  -3.5759596 ,  -2.76787879,\n",
              "        -1.95979798,  -1.15171717,  -0.34363636,   0.46444444,\n",
              "         1.27252525,   2.08060606,   2.88868687,   3.69676768,\n",
              "         4.50484848,   5.31292929,   6.1210101 ,   6.92909091,\n",
              "         7.73717172,   8.54525253,   9.35333333,  10.16141414,\n",
              "        10.96949495,  11.77757576,  12.58565657,  13.39373737,\n",
              "        14.20181818,  15.00989899,  15.8179798 ,  16.62606061,\n",
              "        17.43414141,  18.24222222,  19.05030303,  19.85838384,\n",
              "        20.66646465,  21.47454545,  22.28262626,  23.09070707,\n",
              "        23.89878788,  24.70686869,  25.51494949,  26.3230303 ,\n",
              "        27.13111111,  27.93919192,  28.74727273,  29.55535354,\n",
              "        30.36343434,  31.17151515,  31.97959596,  32.78767677,\n",
              "        33.59575758,  34.40383838,  35.21191919,  36.02      ])"
            ]
          },
          "metadata": {},
          "execution_count": 18
        }
      ]
    },
    {
      "cell_type": "code",
      "source": [
        "def gradient_descent(gradient, start, learn_rate, n_iter):\n",
        "    vector = start\n",
        "    for _ in range(n_iter):\n",
        "        diff = -learn_rate * gradient(vector)\n",
        "        vector += diff\n",
        "    return vector"
      ],
      "metadata": {
        "id": "wve0Mis6LvWj"
      },
      "execution_count": 19,
      "outputs": []
    },
    {
      "cell_type": "code",
      "source": [
        "gradient_descent(gradient=lambda x: f(x), start = 10.0, learn_rate=0.01, n_iter=1000)"
      ],
      "metadata": {
        "colab": {
          "base_uri": "https://localhost:8080/"
        },
        "id": "cfMUUj6lLfHH",
        "outputId": "ea05d4e1-c32d-47e7-84ed-5542d395ceff"
      },
      "execution_count": 20,
      "outputs": [
        {
          "output_type": "execute_result",
          "data": {
            "text/plain": [
              "2.2247448713915934"
            ]
          },
          "metadata": {},
          "execution_count": 20
        }
      ]
    },
    {
      "cell_type": "markdown",
      "source": [
        "## Grafica la composición de funciones (f(g(x))) con f(x) = x^2 y g(x) = sin(x^3).\n",
        "\n",
        "## Grafica también la derivada de esta composición utilizando la definición de derivada."
      ],
      "metadata": {
        "id": "w5i0Wo_iD6Bx"
      }
    },
    {
      "cell_type": "code",
      "source": [
        "def f(x):\n",
        "  return (x**2)\n",
        "\n",
        "def g(x):\n",
        "  return (np.sin(x**3))\n",
        "  "
      ],
      "metadata": {
        "id": "230urEOnEWdz"
      },
      "execution_count": 136,
      "outputs": []
    },
    {
      "cell_type": "code",
      "source": [
        "resolucion = 10"
      ],
      "metadata": {
        "id": "Xff0GGDOyd6k"
      },
      "execution_count": 137,
      "outputs": []
    },
    {
      "cell_type": "code",
      "source": [
        "x = np.arange(-2.0 ,2.0 ,0.01)\n",
        "f_o_g = (f(g(x)))\n",
        "y = f_o_g"
      ],
      "metadata": {
        "id": "rWjoyoeYEWVD"
      },
      "execution_count": 138,
      "outputs": []
    },
    {
      "cell_type": "code",
      "source": [
        "fig, ax = plt.subplots()\n",
        "ax.plot(x,y)\n",
        "ax.grid()\n",
        "ax.axhline(y=0, color='r')\n",
        "ax.axvline(x=0, color='r')\n",
        "plt.show"
      ],
      "metadata": {
        "colab": {
          "base_uri": "https://localhost:8080/",
          "height": 282
        },
        "id": "icWz_MtW-fgt",
        "outputId": "dd2d3888-4f35-4a83-94d9-6dcbccf4f9d0"
      },
      "execution_count": 139,
      "outputs": [
        {
          "output_type": "execute_result",
          "data": {
            "text/plain": [
              "<function matplotlib.pyplot.show>"
            ]
          },
          "metadata": {},
          "execution_count": 139
        },
        {
          "output_type": "display_data",
          "data": {
            "text/plain": [
              "<Figure size 432x288 with 1 Axes>"
            ],
            "image/png": "[encoded data removed]"
          },
          "metadata": {
            "needs_background": "light"
          }
        }
      ]
    },
    {
      "cell_type": "code",
      "source": [
        "derivada_sin_y(f_o_g,x,h=0.01)"
      ],
      "metadata": {
        "colab": {
          "base_uri": "https://localhost:8080/",
          "height": 235
        },
        "id": "HYvBd17QJzhg",
        "outputId": "5e6bd44c-6d2e-437a-ddd7-f8a97c0b22f7"
      },
      "execution_count": 140,
      "outputs": [
        {
          "output_type": "error",
          "ename": "TypeError",
          "evalue": "ignored",
          "traceback": [
            "\u001b[0;31m---------------------------------------------------------------------------\u001b[0m",
            "\u001b[0;31mTypeError\u001b[0m                                 Traceback (most recent call last)",
            "\u001b[0;32m<ipython-input-140-31934b6d314d>\u001b[0m in \u001b[0;36m<module>\u001b[0;34m()\u001b[0m\n\u001b[0;32m----> 1\u001b[0;31m \u001b[0mderivada_sin_y\u001b[0m\u001b[0;34m(\u001b[0m\u001b[0mf_o_g\u001b[0m\u001b[0;34m,\u001b[0m\u001b[0mx\u001b[0m\u001b[0;34m,\u001b[0m\u001b[0mh\u001b[0m\u001b[0;34m=\u001b[0m\u001b[0;36m0.01\u001b[0m\u001b[0;34m)\u001b[0m\u001b[0;34m\u001b[0m\u001b[0;34m\u001b[0m\u001b[0m\n\u001b[0m",
            "\u001b[0;32m<ipython-input-8-e37a6cad385b>\u001b[0m in \u001b[0;36mderivada_sin_y\u001b[0;34m(f, x, h)\u001b[0m\n\u001b[1;32m      1\u001b[0m \u001b[0;32mdef\u001b[0m \u001b[0mderivada_sin_y\u001b[0m\u001b[0;34m(\u001b[0m\u001b[0mf\u001b[0m\u001b[0;34m,\u001b[0m\u001b[0mx\u001b[0m\u001b[0;34m,\u001b[0m\u001b[0mh\u001b[0m\u001b[0;34m)\u001b[0m\u001b[0;34m:\u001b[0m\u001b[0;34m\u001b[0m\u001b[0;34m\u001b[0m\u001b[0m\n\u001b[0;32m----> 2\u001b[0;31m   \u001b[0;32mreturn\u001b[0m \u001b[0;34m(\u001b[0m\u001b[0mf\u001b[0m\u001b[0;34m(\u001b[0m\u001b[0mx\u001b[0m\u001b[0;34m+\u001b[0m\u001b[0mh\u001b[0m\u001b[0;34m)\u001b[0m\u001b[0;34m-\u001b[0m\u001b[0mf\u001b[0m\u001b[0;34m(\u001b[0m\u001b[0mx\u001b[0m\u001b[0;34m)\u001b[0m\u001b[0;34m)\u001b[0m\u001b[0;34m/\u001b[0m\u001b[0mh\u001b[0m\u001b[0;34m\u001b[0m\u001b[0;34m\u001b[0m\u001b[0m\n\u001b[0m",
            "\u001b[0;31mTypeError\u001b[0m: 'numpy.ndarray' object is not callable"
          ]
        }
      ]
    },
    {
      "cell_type": "markdown",
      "source": [
        "## Encuentra el mínimo de la función : f(x,y,z) = (x + 3)^2 + (y - 2)^2 + (z + 3)^2"
      ],
      "metadata": {
        "id": "74bECrZrFJrb"
      }
    },
    {
      "cell_type": "code",
      "source": [
        "def f(x,y,z):\n",
        "  return ((x+3)**2 + (y-2)**2 + (z+3)**2)"
      ],
      "metadata": {
        "id": "pQUWC82jFZtH"
      },
      "execution_count": 164,
      "outputs": []
    },
    {
      "cell_type": "code",
      "source": [
        "def gradient_descent(gradient, start, learn_rate, n_iter):\n",
        "    vector = start\n",
        "    for _ in range(n_iter):\n",
        "        diff = -learn_rate * gradient(vector)\n",
        "        vector += diff\n",
        "    return vector"
      ],
      "metadata": {
        "id": "rxFRKqZN3kYN"
      },
      "execution_count": 165,
      "outputs": []
    },
    {
      "cell_type": "code",
      "source": [
        "gradient_descent(gradient=f(x,y,z), start=10.0, learn_rate=0.01, n_iter=1000)"
      ],
      "metadata": {
        "colab": {
          "base_uri": "https://localhost:8080/",
          "height": 235
        },
        "id": "qSugkQBF3nSR",
        "outputId": "ae61e6ec-fd5e-42f7-98c6-992f486247d0"
      },
      "execution_count": 170,
      "outputs": [
        {
          "output_type": "error",
          "ename": "ValueError",
          "evalue": "ignored",
          "traceback": [
            "\u001b[0;31m---------------------------------------------------------------------------\u001b[0m",
            "\u001b[0;31mValueError\u001b[0m                                Traceback (most recent call last)",
            "\u001b[0;32m<ipython-input-170-4a0df86a9434>\u001b[0m in \u001b[0;36m<module>\u001b[0;34m()\u001b[0m\n\u001b[0;32m----> 1\u001b[0;31m \u001b[0mgradient_descent\u001b[0m\u001b[0;34m(\u001b[0m\u001b[0mgradient\u001b[0m\u001b[0;34m=\u001b[0m\u001b[0mf\u001b[0m\u001b[0;34m(\u001b[0m\u001b[0mx\u001b[0m\u001b[0;34m,\u001b[0m\u001b[0my\u001b[0m\u001b[0;34m,\u001b[0m\u001b[0mz\u001b[0m\u001b[0;34m)\u001b[0m\u001b[0;34m,\u001b[0m \u001b[0mstart\u001b[0m\u001b[0;34m=\u001b[0m\u001b[0;36m10.0\u001b[0m\u001b[0;34m,\u001b[0m \u001b[0mlearn_rate\u001b[0m\u001b[0;34m=\u001b[0m\u001b[0;36m0.01\u001b[0m\u001b[0;34m,\u001b[0m \u001b[0mn_iter\u001b[0m\u001b[0;34m=\u001b[0m\u001b[0;36m1000\u001b[0m\u001b[0;34m)\u001b[0m\u001b[0;34m\u001b[0m\u001b[0;34m\u001b[0m\u001b[0m\n\u001b[0m",
            "\u001b[0;32m<ipython-input-164-3938b05bef6c>\u001b[0m in \u001b[0;36mf\u001b[0;34m(x, y, z)\u001b[0m\n\u001b[1;32m      1\u001b[0m \u001b[0;32mdef\u001b[0m \u001b[0mf\u001b[0m\u001b[0;34m(\u001b[0m\u001b[0mx\u001b[0m\u001b[0;34m,\u001b[0m\u001b[0my\u001b[0m\u001b[0;34m,\u001b[0m\u001b[0mz\u001b[0m\u001b[0;34m)\u001b[0m\u001b[0;34m:\u001b[0m\u001b[0;34m\u001b[0m\u001b[0;34m\u001b[0m\u001b[0m\n\u001b[0;32m----> 2\u001b[0;31m   \u001b[0;32mreturn\u001b[0m \u001b[0;34m(\u001b[0m\u001b[0;34m(\u001b[0m\u001b[0mx\u001b[0m\u001b[0;34m+\u001b[0m\u001b[0;36m3\u001b[0m\u001b[0;34m)\u001b[0m\u001b[0;34m**\u001b[0m\u001b[0;36m2\u001b[0m \u001b[0;34m+\u001b[0m \u001b[0;34m(\u001b[0m\u001b[0my\u001b[0m\u001b[0;34m-\u001b[0m\u001b[0;36m2\u001b[0m\u001b[0;34m)\u001b[0m\u001b[0;34m**\u001b[0m\u001b[0;36m2\u001b[0m \u001b[0;34m+\u001b[0m \u001b[0;34m(\u001b[0m\u001b[0mz\u001b[0m\u001b[0;34m+\u001b[0m\u001b[0;36m3\u001b[0m\u001b[0;34m)\u001b[0m\u001b[0;34m**\u001b[0m\u001b[0;36m2\u001b[0m\u001b[0;34m)\u001b[0m\u001b[0;34m\u001b[0m\u001b[0;34m\u001b[0m\u001b[0m\n\u001b[0m",
            "\u001b[0;31mValueError\u001b[0m: operands could not be broadcast together with shapes (400,) (10,10) "
          ]
        }
      ]
    },
    {
      "cell_type": "markdown",
      "source": [
        "## Grafica la derivada de la función f(g(h(x))), f(x)=cos(x), g(x)=1/x^2, h(x) = tan(x)"
      ],
      "metadata": {
        "id": "FjMMWy59Fyrg"
      }
    },
    {
      "cell_type": "code",
      "source": [
        "def f(x):\n",
        "  return np.cos(x)\n",
        "\n",
        "def g(x):\n",
        "  return 1/x**2\n",
        "\n",
        "def h(x):\n",
        "  return np.tan(x)"
      ],
      "metadata": {
        "id": "n2HYOhZCGIEQ"
      },
      "execution_count": 189,
      "outputs": []
    },
    {
      "cell_type": "code",
      "source": [
        "f_o_g_o_h = f(g(h(x)))"
      ],
      "metadata": {
        "id": "0VU6_H1q6abv"
      },
      "execution_count": 190,
      "outputs": []
    },
    {
      "cell_type": "code",
      "source": [
        "x = np.arange(-1.1 ,1.1 ,0.01)\n",
        "\n",
        "fig, ax = plt.subplots()\n",
        "ax.plot(x,f_o_g_o_h)\n",
        "ax.grid()\n",
        "ax.axhline(y=0, color='r')\n",
        "ax.axvline(x=0, color='r')\n",
        "plt.show"
      ],
      "metadata": {
        "colab": {
          "base_uri": "https://localhost:8080/",
          "height": 282
        },
        "id": "JgtOpG9c6eOl",
        "outputId": "9318a346-c9f0-4d84-b691-73e2b89572eb"
      },
      "execution_count": 191,
      "outputs": [
        {
          "output_type": "execute_result",
          "data": {
            "text/plain": [
              "<function matplotlib.pyplot.show>"
            ]
          },
          "metadata": {},
          "execution_count": 191
        },
        {
          "output_type": "display_data",
          "data": {
            "text/plain": [
              "<Figure size 432x288 with 1 Axes>"
            ],
            "image/png": "[encoded data removed]"
          },
          "metadata": {
            "needs_background": "light"
          }
        }
      ]
    },
    {
      "cell_type": "markdown",
      "source": [
        "# Grafica y Aplica el descenso del gradiente con la siguiente función: f(X) = 4 * X**3 - 10 * X - 3"
      ],
      "metadata": {
        "id": "UcHRRn8iHABB"
      }
    },
    {
      "cell_type": "code",
      "source": [
        "def f(x):\n",
        "  return (4*x**3)-(10*x)-3"
      ],
      "metadata": {
        "id": "Ra9U0EZzHA1f"
      },
      "execution_count": 202,
      "outputs": []
    },
    {
      "cell_type": "code",
      "source": [
        "x = np.linspace(-10.0, 10.0, num=resolucion)\n",
        "y = f(x)\n",
        "\n",
        "fig, ax = plt.subplots()\n",
        "ax.plot(x,y)\n",
        "ax.grid()\n",
        "ax.axhline(y=0, color='r')\n",
        "ax.axvline(x=0, color='r')\n",
        "plt.show"
      ],
      "metadata": {
        "colab": {
          "base_uri": "https://localhost:8080/",
          "height": 282
        },
        "id": "akWLBwxl7Cjo",
        "outputId": "cf3b2b5a-f7b6-453d-dbdf-5f4a790887b9"
      },
      "execution_count": 203,
      "outputs": [
        {
          "output_type": "execute_result",
          "data": {
            "text/plain": [
              "<function matplotlib.pyplot.show>"
            ]
          },
          "metadata": {},
          "execution_count": 203
        },
        {
          "output_type": "display_data",
          "data": {
            "text/plain": [
              "<Figure size 432x288 with 1 Axes>"
            ],
            "image/png": "[encoded data removed]"
          },
          "metadata": {
            "needs_background": "light"
          }
        }
      ]
    },
    {
      "cell_type": "code",
      "source": [
        "gradient_descent(gradient=lambda x: f(x), start=6.0, learn_rate=0.01, n_iter=1000)"
      ],
      "metadata": {
        "colab": {
          "base_uri": "https://localhost:8080/"
        },
        "id": "HXrnvFtE7F_l",
        "outputId": "bdcbc32f-0f56-4f52-8ccb-56b0da074c77"
      },
      "execution_count": 204,
      "outputs": [
        {
          "output_type": "execute_result",
          "data": {
            "text/plain": [
              "-1.4017712478412985"
            ]
          },
          "metadata": {},
          "execution_count": 204
        }
      ]
    }
  ]
}